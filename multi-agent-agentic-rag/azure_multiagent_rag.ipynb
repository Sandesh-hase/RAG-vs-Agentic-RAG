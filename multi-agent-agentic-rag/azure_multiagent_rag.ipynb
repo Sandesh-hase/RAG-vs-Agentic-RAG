{
 "cells": [
  {
   "cell_type": "markdown",
   "id": "d176ce2e",
   "metadata": {},
   "source": [
    "# Multi-Agent RAG on Azure Agent Foundry with Azure AI Search"
   ]
  },
  {
   "cell_type": "code",
   "execution_count": 38,
   "id": "3bb26e5b-7116-41a2-9024-4b21e2340ca8",
   "metadata": {
    "scrolled": true
   },
   "outputs": [
    {
     "name": "stdout",
     "output_type": "stream",
     "text": [
      "Requirement already satisfied: azure-identity in c:\\users\\sandesh\\appdata\\local\\programs\\python\\python313\\lib\\site-packages (1.25.0)\n",
      "Requirement already satisfied: azure-ai-projects in c:\\users\\sandesh\\appdata\\local\\programs\\python\\python313\\lib\\site-packages (1.0.0)\n",
      "Requirement already satisfied: azure-ai-agents in c:\\users\\sandesh\\appdata\\local\\programs\\python\\python313\\lib\\site-packages (1.1.0)\n",
      "Requirement already satisfied: azure-core in c:\\users\\sandesh\\appdata\\local\\programs\\python\\python313\\lib\\site-packages (1.35.1)\n",
      "Requirement already satisfied: cryptography>=2.5 in c:\\users\\sandesh\\appdata\\local\\programs\\python\\python313\\lib\\site-packages (from azure-identity) (45.0.5)\n",
      "Requirement already satisfied: msal>=1.30.0 in c:\\users\\sandesh\\appdata\\local\\programs\\python\\python313\\lib\\site-packages (from azure-identity) (1.33.0)\n",
      "Requirement already satisfied: msal-extensions>=1.2.0 in c:\\users\\sandesh\\appdata\\local\\programs\\python\\python313\\lib\\site-packages (from azure-identity) (1.3.1)\n",
      "Requirement already satisfied: typing-extensions>=4.0.0 in c:\\users\\sandesh\\appdata\\local\\programs\\python\\python313\\lib\\site-packages (from azure-identity) (4.14.1)\n",
      "Requirement already satisfied: isodate>=0.6.1 in c:\\users\\sandesh\\appdata\\local\\programs\\python\\python313\\lib\\site-packages (from azure-ai-projects) (0.7.2)\n",
      "Requirement already satisfied: azure-storage-blob>=12.15.0 in c:\\users\\sandesh\\appdata\\local\\programs\\python\\python313\\lib\\site-packages (from azure-ai-projects) (12.26.0)\n",
      "Requirement already satisfied: requests>=2.21.0 in c:\\users\\sandesh\\appdata\\local\\programs\\python\\python313\\lib\\site-packages (from azure-core) (2.32.5)\n",
      "Requirement already satisfied: six>=1.11.0 in c:\\users\\sandesh\\appdata\\local\\programs\\python\\python313\\lib\\site-packages (from azure-core) (1.17.0)\n",
      "Requirement already satisfied: cffi>=1.14 in c:\\users\\sandesh\\appdata\\local\\programs\\python\\python313\\lib\\site-packages (from cryptography>=2.5->azure-identity) (1.17.1)\n",
      "Requirement already satisfied: pycparser in c:\\users\\sandesh\\appdata\\local\\programs\\python\\python313\\lib\\site-packages (from cffi>=1.14->cryptography>=2.5->azure-identity) (2.22)\n",
      "Requirement already satisfied: PyJWT<3,>=1.0.0 in c:\\users\\sandesh\\appdata\\local\\programs\\python\\python313\\lib\\site-packages (from PyJWT[crypto]<3,>=1.0.0->msal>=1.30.0->azure-identity) (2.10.1)\n",
      "Requirement already satisfied: charset_normalizer<4,>=2 in c:\\users\\sandesh\\appdata\\local\\programs\\python\\python313\\lib\\site-packages (from requests>=2.21.0->azure-core) (3.4.2)\n",
      "Requirement already satisfied: idna<4,>=2.5 in c:\\users\\sandesh\\appdata\\local\\programs\\python\\python313\\lib\\site-packages (from requests>=2.21.0->azure-core) (3.10)\n",
      "Requirement already satisfied: urllib3<3,>=1.21.1 in c:\\users\\sandesh\\appdata\\local\\programs\\python\\python313\\lib\\site-packages (from requests>=2.21.0->azure-core) (2.5.0)\n",
      "Requirement already satisfied: certifi>=2017.4.17 in c:\\users\\sandesh\\appdata\\local\\programs\\python\\python313\\lib\\site-packages (from requests>=2.21.0->azure-core) (2025.7.14)\n"
     ]
    },
    {
     "name": "stderr",
     "output_type": "stream",
     "text": [
      "\n",
      "[notice] A new release of pip is available: 25.1.1 -> 25.2\n",
      "[notice] To update, run: python.exe -m pip install --upgrade pip\n"
     ]
    }
   ],
   "source": [
    "# Install required libraries\n",
    "!pip install --upgrade azure-identity azure-ai-projects azure-ai-agents azure-core"
   ]
  },
  {
   "cell_type": "code",
   "execution_count": 39,
   "id": "c7a7e912-06a3-4bf0-81ac-f3c84fe45787",
   "metadata": {},
   "outputs": [
    {
     "name": "stdout",
     "output_type": "stream",
     "text": [
      "Created thread, ID: thread_9WV77XkiTsOhXLjvyqTdlPhJ\n",
      "MessageRole.USER: Whats the cost of 4k monitor?\n",
      "MessageRole.AGENT: The cost of a 27-inch 4K UHD monitor with HDMI and DisplayPort is $299.99 . Let me know if you need further details!\n"
     ]
    }
   ],
   "source": [
    "from azure.ai.projects import AIProjectClient\n",
    "from azure.identity import DefaultAzureCredential\n",
    "from azure.ai.agents.models import ListSortOrder\n",
    "\n",
    "project = AIProjectClient(\n",
    "    credential=DefaultAzureCredential(),\n",
    "    endpoint=\"your project endpoint\")\n",
    "\n",
    "agent = project.agents.get_agent(\"asst_sezrZlJDpPCrE58pOkHZgJMO\")\n",
    "\n",
    "thread = project.agents.threads.create()\n",
    "print(f\"Created thread, ID: {thread.id}\")\n",
    "\n",
    "message = project.agents.messages.create(\n",
    "    thread_id=thread.id,\n",
    "    role=\"user\",\n",
    "    content=\"Whats the cost of 4k monitor?\"\n",
    ")\n",
    "\n",
    "run = project.agents.runs.create_and_process(\n",
    "    thread_id=thread.id,\n",
    "    agent_id=agent.id)\n",
    "\n",
    "if run.status == \"failed\":\n",
    "    print(f\"Run failed: {run.last_error}\")\n",
    "else:\n",
    "    messages = project.agents.messages.list(thread_id=thread.id, order=ListSortOrder.ASCENDING)\n",
    "\n",
    "    for message in messages:\n",
    "        if message.text_messages:\n",
    "            print(f\"{message.role}: {message.text_messages[-1].text.value}\")"
   ]
  },
  {
   "cell_type": "code",
   "execution_count": null,
   "id": "5ac0a177-030d-43fe-823c-cf0fc9a4c383",
   "metadata": {},
   "outputs": [],
   "source": []
  }
 ],
 "metadata": {
  "kernelspec": {
   "display_name": ".venv",
   "language": "python",
   "name": "python3"
  },
  "language_info": {
   "codemirror_mode": {
    "name": "ipython",
    "version": 3
   },
   "file_extension": ".py",
   "mimetype": "text/x-python",
   "name": "python",
   "nbconvert_exporter": "python",
   "pygments_lexer": "ipython3",
   "version": "3.13.5"
  }
 },
 "nbformat": 4,
 "nbformat_minor": 5
}
